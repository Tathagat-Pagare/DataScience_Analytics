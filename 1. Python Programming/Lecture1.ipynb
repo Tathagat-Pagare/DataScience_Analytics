{
 "cells": [
  {
   "cell_type": "code",
   "execution_count": 1,
   "id": "789367b3",
   "metadata": {},
   "outputs": [
    {
     "name": "stdout",
     "output_type": "stream",
     "text": [
      "Hiiiiiiii\n"
     ]
    }
   ],
   "source": [
    "print('Hiiiiiiii')"
   ]
  },
  {
   "cell_type": "code",
   "execution_count": null,
   "id": "2a9e739c",
   "metadata": {},
   "outputs": [],
   "source": [
    "# Single line comment\n",
    "#Data types in Python Programming\n",
    "'''\n",
    "1. Int\n",
    "2. Float\n",
    "3. Complex\n",
    "4. String\n",
    "5. Boolean\n",
    "6. List\n",
    "7. Tuple\n",
    "8. Set\n",
    "9. Dict\n",
    "'''\n"
   ]
  },
  {
   "cell_type": "code",
   "execution_count": null,
   "id": "928b0308",
   "metadata": {},
   "outputs": [],
   "source": [
    "# Variable Definition\n",
    "\n",
    "x=10 #Single Variable Assignment\n",
    "x,y=1000,2000\n",
    "x,y,z,_=1,2,3,4  #Multiple Variable Assignment"
   ]
  },
  {
   "cell_type": "code",
   "execution_count": 3,
   "id": "83128a74",
   "metadata": {},
   "outputs": [
    {
     "name": "stdout",
     "output_type": "stream",
     "text": [
      "100100100\n"
     ]
    }
   ],
   "source": [
    "num = '100'\n",
    "\n",
    "num1 = 3\n",
    "\n",
    "num2 = num * num1\n",
    "print(num2)\n"
   ]
  },
  {
   "cell_type": "code",
   "execution_count": null,
   "id": "7b0ef5d3",
   "metadata": {},
   "outputs": [],
   "source": [
    "#Rule for Variable \n",
    "'''\n",
    "1. Special Characters not allowed at prefix of variable\n",
    "2. Variable should not contain space in between 2 words\n",
    "'''"
   ]
  },
  {
   "cell_type": "code",
   "execution_count": 2,
   "id": "825ff3a2",
   "metadata": {},
   "outputs": [
    {
     "name": "stdout",
     "output_type": "stream",
     "text": [
      "Hiii\n",
      "1100\n"
     ]
    }
   ],
   "source": [
    "#Print Function\n",
    "\n",
    "print('Hiii')\n",
    "print(100+1000)"
   ]
  },
  {
   "cell_type": "code",
   "execution_count": 1,
   "id": "a31227d3",
   "metadata": {},
   "outputs": [
    {
     "name": "stdout",
     "output_type": "stream",
     "text": [
      "The output Result =  20.0\n",
      "The output Result = 20.0\n",
      "The output Result 10.0 + 10.0 = 20.0\n"
     ]
    }
   ],
   "source": [
    "''' \n",
    "Logic\n",
    "1: Ask user to enter 2 values\n",
    "2. Perform mathemarical operation\n",
    "3. Give result\n",
    "'''\n",
    "num1 = float(input('Enter the first value: '))\n",
    "num2 = float(input('Enter the first value: '))\n",
    "num3 = num1 + num2\n",
    "print('The output Result = ',num3)\n",
    "print(f'The output Result = {num3}')\n",
    "print(f'The output Result {num1} + {num2} = {num3}')"
   ]
  },
  {
   "cell_type": "code",
   "execution_count": 12,
   "id": "b1e048ae",
   "metadata": {},
   "outputs": [
    {
     "data": {
      "text/plain": [
       "'T'"
      ]
     },
     "execution_count": 12,
     "metadata": {},
     "output_type": "execute_result"
    }
   ],
   "source": [
    "#Indexing and Slicing\n",
    "\n",
    "str = 'Tathagat Pagare'\n",
    "\n",
    "str[0]"
   ]
  },
  {
   "cell_type": "code",
   "execution_count": 2,
   "id": "38da00a6",
   "metadata": {},
   "outputs": [
    {
     "name": "stdout",
     "output_type": "stream",
     "text": [
      "The output Result =  20.0\n"
     ]
    }
   ],
   "source": [
    "num1 = float(input('Enter the first value: '))\n",
    "num2 = float(input('Enter the first value: '))\n",
    "num3 = num1 + num2\n",
    "print('The output Result = ',num3)"
   ]
  },
  {
   "cell_type": "code",
   "execution_count": 11,
   "id": "94e78a7f",
   "metadata": {},
   "outputs": [
    {
     "name": "stdout",
     "output_type": "stream",
     "text": [
      "rica nic\n"
     ]
    }
   ],
   "source": [
    "str = 'america nice' \n",
    "print(str[-9:-1:])"
   ]
  },
  {
   "cell_type": "code",
   "execution_count": 13,
   "id": "5123dd01",
   "metadata": {},
   "outputs": [
    {
     "name": "stdout",
     "output_type": "stream",
     "text": [
      "I am True\n"
     ]
    }
   ],
   "source": [
    "# If Else statement\n",
    "\n",
    "if True:\n",
    "    print('I am True')\n",
    "\n",
    "if False:\n",
    "    print('I am False')"
   ]
  },
  {
   "cell_type": "code",
   "execution_count": 14,
   "id": "9210cf84",
   "metadata": {},
   "outputs": [
    {
     "name": "stdout",
     "output_type": "stream",
     "text": [
      "Fuck off\n"
     ]
    }
   ],
   "source": [
    "num = 10\n",
    "\n",
    "if num >= 100:\n",
    "    print('Satisfy')\n",
    "else:\n",
    "    print('Fuck off')"
   ]
  },
  {
   "cell_type": "code",
   "execution_count": 15,
   "id": "6e7035fa",
   "metadata": {},
   "outputs": [
    {
     "name": "stdout",
     "output_type": "stream",
     "text": [
      "Lower\n"
     ]
    }
   ],
   "source": [
    "number=float(input())\n",
    "if number > 2:\n",
    "    print('Higher')\n",
    "if number < 2:\n",
    "    print('Lower')\n",
    "else:\n",
    "    print('2')"
   ]
  },
  {
   "cell_type": "code",
   "execution_count": 6,
   "id": "bfb0a151",
   "metadata": {},
   "outputs": [
    {
     "name": "stdout",
     "output_type": "stream",
     "text": [
      "Vol = 392.5 mm^3\n"
     ]
    }
   ],
   "source": [
    "# Program for Volume Calc\n",
    "\n",
    "''' \n",
    "Volume = Area * Height\n",
    "Step1= ask user to enter diameter\n",
    "step2= ask user to enter height\n",
    "step3= volume =area*height\n",
    "step4= print the desired output\n",
    "'''\n",
    "\n",
    "Pi = 3.14\n",
    "radius = float(input('Enter radius: '))\n",
    "height = float(input('Enter height: '))\n",
    "volume = Pi*(radius**2)*height\n",
    "print(f'Vol = {volume} mm^3')\n"
   ]
  },
  {
   "cell_type": "code",
   "execution_count": null,
   "id": "ee68e75c",
   "metadata": {},
   "outputs": [
    {
     "name": "stdout",
     "output_type": "stream",
     "text": [
      "Jhatu\n"
     ]
    }
   ],
   "source": [
    "#Marks \n",
    "\n",
    "''' \n",
    "1 ask user to put marks\n",
    "2 logic: marks > 90 : excellent\n",
    "         90<marks>60 : bright\n",
    "         marks less than 60 : poor\n",
    "3 print\n",
    "'''\n",
    "\n",
    "marks = float(input('Enter the marks: '))\n",
    "if marks>90:\n",
    "    print('Ghazab')\n",
    "elif marks < 90 and marks > 60:\n",
    "    print('Thik_thak')\n",
    "else:\n",
    "    print('Jhatu')"
   ]
  },
  {
   "cell_type": "code",
   "execution_count": 9,
   "id": "8d3c5ddc",
   "metadata": {},
   "outputs": [
    {
     "name": "stdout",
     "output_type": "stream",
     "text": [
      "0\n",
      "2\n",
      "4\n",
      "6\n",
      "8\n"
     ]
    }
   ],
   "source": [
    "# for loop\n",
    "# range(start,stop,step)\n",
    "for i in range (0,10,2):\n",
    "    print(i)"
   ]
  },
  {
   "cell_type": "code",
   "execution_count": 11,
   "id": "f6dcd731",
   "metadata": {},
   "outputs": [
    {
     "name": "stdout",
     "output_type": "stream",
     "text": [
      " * ** *** **** ***** ****** ******* ******** ********* "
     ]
    }
   ],
   "source": [
    "# for loop\n",
    "# range(start,stop,step)\n",
    "for i in range (10):\n",
    "    print('*'*i,end = ' ')"
   ]
  },
  {
   "cell_type": "code",
   "execution_count": 12,
   "id": "280cc3b3",
   "metadata": {},
   "outputs": [
    {
     "name": "stdout",
     "output_type": "stream",
     "text": [
      "\n",
      "*\n",
      "**\n",
      "***\n",
      "****\n",
      "*****\n",
      "******\n",
      "*******\n",
      "********\n",
      "*********\n"
     ]
    }
   ],
   "source": [
    "# for loop\n",
    "# range(start,stop,step)\n",
    "for i in range (10):\n",
    "    print('*'*i)"
   ]
  },
  {
   "cell_type": "code",
   "execution_count": 18,
   "id": "aa6dbe07",
   "metadata": {},
   "outputs": [
    {
     "name": "stdout",
     "output_type": "stream",
     "text": [
      "0\n",
      "1\n",
      "2\n",
      "3\n",
      "4\n"
     ]
    }
   ],
   "source": [
    "for i in range (0,10):\n",
    "    print(i)\n",
    "    if i == 4:\n",
    "        break"
   ]
  },
  {
   "cell_type": "code",
   "execution_count": 19,
   "id": "d8f280c0",
   "metadata": {},
   "outputs": [
    {
     "name": "stdout",
     "output_type": "stream",
     "text": [
      "Is Palindrom\n"
     ]
    }
   ],
   "source": [
    "#palindrom definition function\n",
    "\n",
    "def Palindrom():\n",
    "    text1 = input('Enter the string: ')\n",
    "    text2 = text1 [::-1]\n",
    "\n",
    "    if text1 == text2:\n",
    "        print('Is Palindrom')\n",
    "    else:\n",
    "        print('Not Palindrom')\n",
    "Palindrom()\n",
    "\n"
   ]
  },
  {
   "cell_type": "code",
   "execution_count": 20,
   "id": "c8aed4f2",
   "metadata": {},
   "outputs": [
    {
     "name": "stdout",
     "output_type": "stream",
     "text": [
      "The answer is 300\n"
     ]
    }
   ],
   "source": [
    "#Compute \n",
    "\n",
    "def compute(num1,num2):\n",
    "    num3 = num1 + num2\n",
    "    return num3\n",
    "\n",
    "ans = compute(100,200)\n",
    "\n",
    "print(f'The answer is {ans}')"
   ]
  },
  {
   "cell_type": "code",
   "execution_count": 5,
   "id": "6c3c30c7",
   "metadata": {},
   "outputs": [
    {
     "name": "stdout",
     "output_type": "stream",
     "text": [
      "(50, 60)\n"
     ]
    }
   ],
   "source": [
    "tup= (1,2,3,[4,5,6,7],[10,20,(30,40,(50,60,(70)))])\n",
    "\n",
    "print(tup[4][2][2][0:2])"
   ]
  },
  {
   "cell_type": "code",
   "execution_count": 9,
   "id": "b8c8016d",
   "metadata": {},
   "outputs": [
    {
     "name": "stdout",
     "output_type": "stream",
     "text": [
      "(10, 20, 30, 40)\n",
      "[10, 20, 30, 40]\n",
      "[10, 20, 30, 40, 50]\n"
     ]
    }
   ],
   "source": [
    "# Tuples \n",
    "\n",
    "tup = (10,20,30,40)\n",
    "print(tup)\n",
    "\n",
    "#Typecast\n",
    "tup = list(tup)\n",
    "print(tup)\n",
    "\n",
    "tup.append(50)\n",
    "print(tup)"
   ]
  },
  {
   "cell_type": "code",
   "execution_count": null,
   "id": "f20ca5c0",
   "metadata": {},
   "outputs": [
    {
     "name": "stdout",
     "output_type": "stream",
     "text": [
      "dict_keys(['1'])\n",
      "dict_values([10])\n"
     ]
    }
   ],
   "source": [
    "#Dictionary\n",
    "\n",
    "#dict = {'key1':value}\n",
    "\n",
    "d = {'1':10} # '1': Key & 10 is value\n",
    "print(d.keys())\n",
    "print(d.values())"
   ]
  },
  {
   "cell_type": "code",
   "execution_count": 15,
   "id": "950c8607",
   "metadata": {},
   "outputs": [
    {
     "name": "stdout",
     "output_type": "stream",
     "text": [
      "20\n"
     ]
    }
   ],
   "source": [
    "d ={'India':[10,20,30,40],'USA': 50,'UK':60}\n",
    "print(d['India'][1])"
   ]
  },
  {
   "cell_type": "code",
   "execution_count": 20,
   "id": "3daf3698",
   "metadata": {},
   "outputs": [
    {
     "data": {
      "text/plain": [
       "{'USA': 1000, 'India': 2000, 'UK': 3000}"
      ]
     },
     "execution_count": 20,
     "metadata": {},
     "output_type": "execute_result"
    }
   ],
   "source": [
    "d = [('USA',1000),('India',2000)]\n",
    "d = dict(d)\n",
    "d['UK'] = 3000\n",
    "d"
   ]
  },
  {
   "cell_type": "code",
   "execution_count": 22,
   "id": "77643474",
   "metadata": {},
   "outputs": [
    {
     "name": "stdout",
     "output_type": "stream",
     "text": [
      "<class 'set'>\n",
      "{40, 10, 20, 30}\n"
     ]
    }
   ],
   "source": [
    "#set\n",
    "\n",
    "d = {1,2,3,4}\n",
    "print(type(d))\n",
    "\n",
    "d = {10,10,20,20,30,40}\n",
    "print(d)"
   ]
  },
  {
   "cell_type": "code",
   "execution_count": null,
   "id": "ef7fbf5a",
   "metadata": {},
   "outputs": [
    {
     "name": "stdout",
     "output_type": "stream",
     "text": [
      "400\n"
     ]
    }
   ],
   "source": [
    "# UDF User defined function without parameters\n",
    "\n",
    "def add ():             #function definition \n",
    "        num1 = 100   # parameters\n",
    "        num2 = 300\n",
    "\n",
    "        return num1 + num2  # return expression\n",
    "print(add())   #function calling"
   ]
  },
  {
   "cell_type": "code",
   "execution_count": null,
   "id": "450f7197",
   "metadata": {},
   "outputs": [
    {
     "name": "stdout",
     "output_type": "stream",
     "text": [
      "300\n"
     ]
    }
   ],
   "source": [
    "# user defined function with parameters\n",
    "\n",
    "def add(num1, num2): #function with parameters\n",
    "    return num1 + num2 #return parameters \n",
    "\n",
    "ans = add(100,200)  # function calling\n",
    "print(ans)"
   ]
  },
  {
   "cell_type": "code",
   "execution_count": 15,
   "id": "52eabc12",
   "metadata": {},
   "outputs": [
    {
     "name": "stdout",
     "output_type": "stream",
     "text": [
      "300\n"
     ]
    }
   ],
   "source": [
    "# user defined function with parameters\n",
    "\n",
    "def add(num1, num2): #function with parameters\n",
    "    return num1 + num2 #return parameters \n",
    "\n",
    "a = add(100,200)  # function calling\n",
    "print(a)"
   ]
  },
  {
   "cell_type": "code",
   "execution_count": 25,
   "id": "e6cbacbe",
   "metadata": {},
   "outputs": [
    {
     "name": "stdout",
     "output_type": "stream",
     "text": [
      "Addition of 1.0 & 1.0 is 2.0\n"
     ]
    }
   ],
   "source": [
    "# UDF Calculator\n",
    "\n",
    "number1 = float(input('Enter First Number: '))\n",
    "number2 = float(input('Enter Second Number: '))\n",
    "choice = input('Choice : 1/2/3/4')\n",
    "\n",
    "def add(num1, num2):\n",
    "    num3 = num1 + num2\n",
    "    return num3 \n",
    "\n",
    "if choice == '1':\n",
    "    ans = add(number1,number2)\n",
    "    print(f'Addition of {number1} & {number2} is {ans}')\n",
    "\n",
    "def sub(num1, num2):\n",
    "    num3 = num1 - num2\n",
    "    return num3 \n",
    "\n",
    "if choice == '2':\n",
    "    ans = sub(number1,number2)\n",
    "    print(f'Subtraction of {number1} & {number2} is {ans}')\n",
    "\n",
    "def mul(num1, num2):\n",
    "    num3 = num1 * num2\n",
    "    return num3 \n",
    "\n",
    "if choice == '3':\n",
    "    ans = add(number1,number2)\n",
    "    print(f'Multiplication of {number1} & {number2} is {ans}')\n",
    "\n",
    "def div(num1, num2):\n",
    "    num3 = num1 / num2\n",
    "    return num3 \n",
    "\n",
    "if choice == '4':\n",
    "    ans = div(number1,number2)\n",
    "    print(f'Division of {number1} & {number2} is {ans}')\n",
    "    "
   ]
  },
  {
   "cell_type": "code",
   "execution_count": 28,
   "id": "a8e4dffb",
   "metadata": {},
   "outputs": [
    {
     "name": "stdout",
     "output_type": "stream",
     "text": [
      "30\n",
      "[2, 4, 6, 8, 10]\n"
     ]
    }
   ],
   "source": [
    "def compute():\n",
    "    lst= []\n",
    "    sum = 0\n",
    "    for i in range(1,11):\n",
    "        if i%2 == 0:\n",
    "            lst.append(i)\n",
    "            sum = sum + i\n",
    "    return sum,lst \n",
    "sum,lst = compute()\n",
    "print(sum)\n",
    "print(lst)"
   ]
  },
  {
   "cell_type": "code",
   "execution_count": 4,
   "id": "aa45f0ec",
   "metadata": {},
   "outputs": [
    {
     "data": {
      "text/plain": [
       "402387260077093773543702433923003985719374864210714632543799910429938512398629020592044208486969404800479988610197196058631666872994808558901323829669944590997424504087073759918823627727188732519779505950995276120874975462497043601418278094646496291056393887437886487337119181045825783647849977012476632889835955735432513185323958463075557409114262417474349347553428646576611667797396668820291207379143853719588249808126867838374559731746136085379534524221586593201928090878297308431392844403281231558611036976801357304216168747609675871348312025478589320767169132448426236131412508780208000261683151027341827977704784635868170164365024153691398281264810213092761244896359928705114964975419909342221566832572080821333186116811553615836546984046708975602900950537616475847728421889679646244945160765353408198901385442487984959953319101723355556602139450399736280750137837615307127761926849034352625200015888535147331611702103968175921510907788019393178114194545257223865541461062892187960223838971476088506276862967146674697562911234082439208160153780889893964518263243671616762179168909779911903754031274622289988005195444414282012187361745992642956581746628302955570299024324153181617210465832036786906117260158783520751516284225540265170483304226143974286933061690897968482590125458327168226458066526769958652682272807075781391858178889652208164348344825993266043367660176999612831860788386150279465955131156552036093988180612138558600301435694527224206344631797460594682573103790084024432438465657245014402821885252470935190620929023136493273497565513958720559654228749774011413346962715422845862377387538230483865688976461927383814900140767310446640259899490222221765904339901886018566526485061799702356193897017860040811889729918311021171229845901641921068884387121855646124960798722908519296819372388642614839657382291123125024186649353143970137428531926649875337218940694281434118520158014123344828015051399694290153483077644569099073152433278288269864602789864321139083506217095002597389863554277196742822248757586765752344220207573630569498825087968928162753848863396909959826280956121450994871701244516461260379029309120889086942028510640182154399457156805941872748998094254742173582401063677404595741785160829230135358081840096996372524230560855903700624271243416909004153690105933983835777939410970027753472000000000000000000000000000000000000000000000000000000000000000000000000000000000000000000000000000000000000000000000000000000000000000000000000000000000000000000000000000000000000000000000000000000000000000000000000000000000000000000000000000000000"
      ]
     },
     "execution_count": 4,
     "metadata": {},
     "output_type": "execute_result"
    }
   ],
   "source": [
    "#factorial series = 4!\n",
    "\n",
    "def factorial(n):\n",
    "\n",
    "    if n==0 or n==1:\n",
    "        return 1\n",
    "    else:\n",
    "        return n * factorial(n-1)\n",
    "    \n",
    "factorial(1000)"
   ]
  },
  {
   "cell_type": "code",
   "execution_count": 15,
   "id": "19b210ed",
   "metadata": {},
   "outputs": [
    {
     "data": {
      "text/plain": [
       "402387260077093773543702433923003985719374864210714632543799910429938512398629020592044208486969404800479988610197196058631666872994808558901323829669944590997424504087073759918823627727188732519779505950995276120874975462497043601418278094646496291056393887437886487337119181045825783647849977012476632889835955735432513185323958463075557409114262417474349347553428646576611667797396668820291207379143853719588249808126867838374559731746136085379534524221586593201928090878297308431392844403281231558611036976801357304216168747609675871348312025478589320767169132448426236131412508780208000261683151027341827977704784635868170164365024153691398281264810213092761244896359928705114964975419909342221566832572080821333186116811553615836546984046708975602900950537616475847728421889679646244945160765353408198901385442487984959953319101723355556602139450399736280750137837615307127761926849034352625200015888535147331611702103968175921510907788019393178114194545257223865541461062892187960223838971476088506276862967146674697562911234082439208160153780889893964518263243671616762179168909779911903754031274622289988005195444414282012187361745992642956581746628302955570299024324153181617210465832036786906117260158783520751516284225540265170483304226143974286933061690897968482590125458327168226458066526769958652682272807075781391858178889652208164348344825993266043367660176999612831860788386150279465955131156552036093988180612138558600301435694527224206344631797460594682573103790084024432438465657245014402821885252470935190620929023136493273497565513958720559654228749774011413346962715422845862377387538230483865688976461927383814900140767310446640259899490222221765904339901886018566526485061799702356193897017860040811889729918311021171229845901641921068884387121855646124960798722908519296819372388642614839657382291123125024186649353143970137428531926649875337218940694281434118520158014123344828015051399694290153483077644569099073152433278288269864602789864321139083506217095002597389863554277196742822248757586765752344220207573630569498825087968928162753848863396909959826280956121450994871701244516461260379029309120889086942028510640182154399457156805941872748998094254742173582401063677404595741785160829230135358081840096996372524230560855903700624271243416909004153690105933983835777939410970027753472000000000000000000000000000000000000000000000000000000000000000000000000000000000000000000000000000000000000000000000000000000000000000000000000000000000000000000000000000000000000000000000000000000000000000000000000000000000000000000000000000000000"
      ]
     },
     "execution_count": 15,
     "metadata": {},
     "output_type": "execute_result"
    }
   ],
   "source": [
    "#factorial series = 4!\n",
    "\n",
    "def factorial(n):\n",
    "\n",
    "    if n==0 or n==1:\n",
    "        return 1\n",
    "    else:\n",
    "        return n * factorial(n-1)\n",
    "\n",
    "\n",
    "factorial(1000)"
   ]
  },
  {
   "cell_type": "code",
   "execution_count": 31,
   "id": "0a5aea2e",
   "metadata": {},
   "outputs": [
    {
     "name": "stdout",
     "output_type": "stream",
     "text": [
      "0  1  2  4  8  16  32  64  128  256  "
     ]
    }
   ],
   "source": [
    "def number(n): \n",
    "\n",
    "    a,b = 0,1\n",
    "    for i in range(10):\n",
    "        print (a,end=\"  \")\n",
    "        a = b\n",
    "        b = a + b\n",
    "\n",
    "number(5)\n"
   ]
  },
  {
   "cell_type": "code",
   "execution_count": 3,
   "id": "e9e87ae3",
   "metadata": {},
   "outputs": [
    {
     "name": "stdout",
     "output_type": "stream",
     "text": [
      "<class '__main__.Employee'>\n"
     ]
    }
   ],
   "source": [
    "class Employee:\n",
    "    pass\n",
    "\n",
    "emp1 = Employee()\n",
    "emp2 = Employee()\n",
    "\n",
    "print(type(emp1))"
   ]
  },
  {
   "cell_type": "code",
   "execution_count": null,
   "id": "359b8467",
   "metadata": {},
   "outputs": [
    {
     "name": "stdout",
     "output_type": "stream",
     "text": [
      "It Vedant\n",
      "Tathagat\n"
     ]
    }
   ],
   "source": [
    "class Employee: \n",
    "\n",
    "    Company_Name = \"It Vedant\"\n",
    "    Company_Est = \"1998\"\n",
    "\n",
    "    def __init__(self,Name,Age,Position):\n",
    "        self.Name = Name\n",
    "        self.Age = Age\n",
    "        self.Position = Position\n",
    "\n",
    "emp1 = Employee(\"Tathagat\",27,\"DSDA\")\n",
    "emp2 = Employee(\"Sambodhi\",20,\"Python\")\n",
    "\n",
    "print(emp1.Company_Name)\n",
    "print(emp1.Name)"
   ]
  },
  {
   "cell_type": "code",
   "execution_count": 11,
   "id": "8cfd07e9",
   "metadata": {},
   "outputs": [
    {
     "name": "stdout",
     "output_type": "stream",
     "text": [
      "Sambodhi\n",
      "Tathagat\n",
      "Tathagat 26\n"
     ]
    }
   ],
   "source": [
    "class Employee: \n",
    "    def __init__(self,Name,Age,Position):\n",
    "        self.Name = Name\n",
    "        self.Age = Age\n",
    "        self.Position = Position\n",
    "\n",
    "    def details(self):\n",
    "        print(f'name:{self.name}','age:{self.age}','position:{self.position}')\n",
    "\n",
    "class Manager(Employee):\n",
    "    def __init__(self, Name, Age, Position, Department):\n",
    "        super().__init__(Name, Age, Position)\n",
    "        self.department = Department\n",
    "\n",
    "    def details(self):\n",
    "        print(f'name:{self.Name}','age:{self.Age}','position:{self.Position}')\n",
    "        print(f'Department:{self.Department}')\n",
    "\n",
    "\n",
    "emp1 = Employee(\"Sambodhi\",20,\"Junior\")\n",
    "emp2 = Manager(\"Tathagat\",26,\"Senior\",\"DSDA\")\n",
    "\n",
    "print(emp1.Name)\n",
    "print(emp2.Name)\n",
    "print(emp2.Name,emp2.Age)"
   ]
  },
  {
   "cell_type": "code",
   "execution_count": 17,
   "id": "2716502e",
   "metadata": {},
   "outputs": [],
   "source": [
    "class Car:\n",
    "    def __init__(self,enginetype,tyre,color):\n",
    "        self.enginetype = enginetype\n",
    "        self.tyre = tyre\n",
    "        self.color = color\n",
    "\n",
    "    def mileage(self):\n",
    "        self.mileage = 69\n",
    "        print(self.mileage)\n",
    "\n",
    "class Petrol(Car):\n",
    "    def __init__(self,enginetype,tyre,color):\n",
    "        super().__init__(self,enginetype,tyre,color)\n",
    "        self.enginetype = \"Petrol\"\n",
    "        self.tyre = 4\n",
    "        self.color = \"Red\"\n",
    "\n",
    "    def Sound(self):\n",
    "        print(\"Oh Yeaaaaahhhhhh\")\n",
    "\n",
    "class Diesel(Car):\n",
    "    def __init__(self,enginetype,tyre,color):\n",
    "        super().__init__(self,enginetype,tyre,color)\n",
    "        self.enginetype = \"Diesel\"\n",
    "        self.tyre = 4\n",
    "        self.color = \"Black\"\n",
    "\n",
    "    def Sound(self):\n",
    "        print(\"Hell Yeaaaaahhhhhh\")\n",
    "\n",
    "class EV(Car):\n",
    "    def __init__(self,enginetype,tyre,color):\n",
    "        super().__init__(self,enginetype,tyre,color)\n",
    "        self.enginetype = \"EV\"\n",
    "        self.tyre = 4\n",
    "        self.color = \"Blue\"\n",
    "\n",
    "    def Sound(self):\n",
    "        print(\"Helll Naaahhhhh\")\n",
    "\n"
   ]
  },
  {
   "cell_type": "code",
   "execution_count": 32,
   "id": "2334e19b",
   "metadata": {},
   "outputs": [
    {
     "name": "stdout",
     "output_type": "stream",
     "text": [
      "Oh Yeaaaaahhhhhh\n",
      "Hell Yeaaaaahhhhhh\n",
      "Helll Naaahhhhh\n",
      "Red\n",
      "4\n",
      "EV\n"
     ]
    }
   ],
   "source": [
    "class Car:\n",
    "    def __init__(self, enginetype, tyre, color):\n",
    "        self.enginetype = enginetype\n",
    "        self.tyre = tyre\n",
    "        self.color = color\n",
    "\n",
    "    def mileage(self):\n",
    "        self.mileage = 69\n",
    "        print(self.mileage)\n",
    "\n",
    "class Petrol(Car):\n",
    "    def __init__(self):\n",
    "        super().__init__(\"Petrol\", 4, \"Red\")\n",
    "\n",
    "    def Sound(self):\n",
    "        print(\"Oh Yeaaaaahhhhhh\")\n",
    "\n",
    "class Diesel(Car):\n",
    "    def __init__(self):\n",
    "        super().__init__(\"Diesel\", 4, \"Black\")\n",
    "\n",
    "    def Sound(self):\n",
    "        print(\"Hell Yeaaaaahhhhhh\")\n",
    "\n",
    "class EV(Car):\n",
    "    def __init__(self):\n",
    "        super().__init__(\"EV\", 4, \"Blue\")\n",
    "\n",
    "    def Sound(self):\n",
    "        print(\"Helll Naaahhhhh\")\n",
    "\n",
    "car1 = Petrol()\n",
    "car2 = Diesel()\n",
    "car3 = EV()\n",
    "\n",
    "car1.Sound()   \n",
    "car2.Sound()   \n",
    "car3.Sound()   \n",
    "\n",
    "print(car1.color) \n",
    "print(car2.tyre) \n",
    "print(car3.enginetype)"
   ]
  },
  {
   "cell_type": "code",
   "execution_count": 37,
   "id": "dc24dacc",
   "metadata": {},
   "outputs": [
    {
     "name": "stdout",
     "output_type": "stream",
     "text": [
      "1000\n"
     ]
    }
   ],
   "source": [
    "class Bank:\n",
    "    def __init__(self, NRI, Savings, Current):\n",
    "        self.NRI = NRI\n",
    "        self.Savings = Savings\n",
    "        self.Current = Current\n",
    "\n",
    "\n",
    "class Tathagat(Bank):\n",
    "    def __init__(self):\n",
    "        super().__init__(0, 1000, 2000)\n",
    "\n",
    "\n",
    "class Shivam(Bank):\n",
    "    def __init__(self):\n",
    "        super().__init__(0, 500, 1000)\n",
    "\n",
    "\n",
    "class Vishal(Bank):\n",
    "    def __init__(self):\n",
    "        super().__init__(0, 500, 1500)\n",
    "\n",
    "E1 = Tathagat()\n",
    "E2 = Shivam()\n",
    "E3 = Vishal()\n",
    "\n",
    "print(E1.Savings)"
   ]
  },
  {
   "cell_type": "code",
   "execution_count": null,
   "id": "4dbc04db",
   "metadata": {},
   "outputs": [],
   "source": [
    "class Bank:  # Parent Class\n",
    "    def __init__(self, account_holder, balance=0):  # Special Method : Constructor : Instance Method\n",
    "        self.account_holder = account_holder        # Instance Variable1\n",
    "        self.balance = balance                      # Instance Variable2\n",
    "\n",
    "    def show_balance(self):                         # class method : class function\n",
    "        print(f\"Account Holder: {self.account_holder}\")\n",
    "        print(f\"Current Balance: {self.balance}\\n\")\n",
    "\n",
    "\n",
    "class CurrentAccount(Bank):  # Child Class\n",
    "    def withdraw_amount(self, amount):              # child class method : child class function\n",
    "        if amount <= self.balance:\n",
    "            self.balance -= amount                  # self.balance = self.balance - amount\n",
    "            print(f\"{amount} withdrawn successfully from Current Account.\")\n",
    "        else:\n",
    "            print(\"Insufficient balance.\")\n",
    "\n",
    "    def credit_amount(self, amount):                # child class method : child class function\n",
    "        self.balance += amount                      # self.balance = self.balance + amount\n",
    "        print(f\"{amount} credited successfully to Current Account.\")\n",
    "\n",
    "class SavingAccount(Bank):  # Child Class\n",
    "    def withdraw_amount(self, amount):  # child class method : child class function\n",
    "        if amount <= self.balance:\n",
    "            self.balance -= amount       # self.balance = self.balance - amount\n",
    "            print(f\"{amount} withdrawn successfully from Savings Account.\")\n",
    "        else:\n",
    "            print(\"Insufficient balance.\")\n",
    "\n",
    "    def credit_amount(self, amount):     # child class method : child class function\n",
    "        self.balance += amount           # self.balance = self.balance + amount\n",
    "        print(f\"{amount} credited successfully to Savings Account.\")\n"
   ]
  },
  {
   "cell_type": "code",
   "execution_count": 3,
   "id": "15fa9c25",
   "metadata": {},
   "outputs": [
    {
     "name": "stdout",
     "output_type": "stream",
     "text": [
      "Tathagat\n"
     ]
    }
   ],
   "source": [
    "'''\n",
    "class ITV:\n",
    "    constructor\n",
    "    - Name\n",
    "    - student_id\n",
    "    - course \n",
    "    - duration\n",
    "    - experience\n",
    "\n",
    "class students(ITV)\n",
    "    details\n",
    "class Trainer(ITV)\n",
    "    details\n",
    "\n",
    "Define:\n",
    "    - 2 students objects\n",
    "    - 2 trainer \n",
    "'''\n",
    "\n",
    "class ITV:\n",
    "    def __init__(self,name,student_id,course,duration,experience):\n",
    "        self.name = name\n",
    "        self.student_id = student_id\n",
    "        self.course = course\n",
    "        self.duration = duration\n",
    "        self.experience = experience\n",
    "\n",
    "class students(ITV):\n",
    "    def __init__(self, name, student_id, course, duration, experience):\n",
    "        super().__init__(name, student_id, course, duration, experience)\n",
    "\n",
    "class trainer(ITV):\n",
    "    def __init__(self, name, student_id, course, duration, experience):\n",
    "        super().__init__(name, student_id, course, duration, experience)\n",
    "\n",
    "S1 = students(\"Tathagat\",1,\"XX\",1,0)\n",
    "S2 = students(\"Shivam\",1,\"XX\",1,0)\n",
    "\n",
    "T1 = trainer(\"Tathagat Sir\",1,\"XX\",1,10)\n",
    "T2 = trainer(\"Shivam Sir\",1,\"XX\",1,10)\n",
    "\n",
    "print(S1.name)"
   ]
  },
  {
   "cell_type": "code",
   "execution_count": 9,
   "id": "77e386b8",
   "metadata": {},
   "outputs": [
    {
     "name": "stdout",
     "output_type": "stream",
     "text": [
      "6\n",
      "5\n",
      "2.23606797749979\n",
      "25.0\n",
      "120\n"
     ]
    }
   ],
   "source": [
    "import math \n",
    "\n",
    "a=math.ceil(5.5)\n",
    "print(a)\n",
    "\n",
    "a=math.floor(5.5)\n",
    "print(a)\n",
    "\n",
    "a=math.sqrt(5)\n",
    "print(a)\n",
    "\n",
    "a=math.pow(5,2)\n",
    "print(a)\n",
    "\n",
    "a=math.factorial(5)\n",
    "print(a)"
   ]
  },
  {
   "cell_type": "code",
   "execution_count": 2,
   "id": "0ad32824",
   "metadata": {},
   "outputs": [
    {
     "name": "stdout",
     "output_type": "stream",
     "text": [
      "10\n"
     ]
    },
    {
     "ename": "NameError",
     "evalue": "name 'number' is not defined",
     "output_type": "error",
     "traceback": [
      "\u001b[31m---------------------------------------------------------------------------\u001b[39m",
      "\u001b[31mNameError\u001b[39m                                 Traceback (most recent call last)",
      "\u001b[36mCell\u001b[39m\u001b[36m \u001b[39m\u001b[32mIn[2]\u001b[39m\u001b[32m, line 5\u001b[39m\n\u001b[32m      2\u001b[39m \u001b[38;5;28mprint\u001b[39m(number)\n\u001b[32m      4\u001b[39m \u001b[38;5;28;01mdel\u001b[39;00m number \n\u001b[32m----> \u001b[39m\u001b[32m5\u001b[39m \u001b[38;5;28mprint\u001b[39m(\u001b[43mnumber\u001b[49m)\n",
      "\u001b[31mNameError\u001b[39m: name 'number' is not defined"
     ]
    }
   ],
   "source": [
    "number =10\n",
    "print(number)\n",
    "\n",
    "del number \n",
    "print(number)"
   ]
  },
  {
   "cell_type": "code",
   "execution_count": 9,
   "id": "3c4ace80",
   "metadata": {},
   "outputs": [
    {
     "name": "stdout",
     "output_type": "stream",
     "text": [
      "['Roll', 'Jump']\n"
     ]
    }
   ],
   "source": [
    "class Dog:\n",
    "\n",
    "    tricks = []    # Wrong code\n",
    "\n",
    "    def __init__(self,name):\n",
    "        self.name = name \n",
    "\n",
    "    def add_tricks(self,tricks):\n",
    "        self.tricks.append(tricks)\n",
    "\n",
    "d = Dog('Max')\n",
    "e = Dog('Maxy')\n",
    "d.add_tricks('Roll')\n",
    "e.add_tricks('Jump')\n",
    "\n",
    "print(d.tricks)\n"
   ]
  },
  {
   "cell_type": "code",
   "execution_count": null,
   "id": "b78df93c",
   "metadata": {},
   "outputs": [
    {
     "name": "stdout",
     "output_type": "stream",
     "text": [
      "['Roll']\n",
      "['Jump']\n"
     ]
    }
   ],
   "source": [
    "class Dog: \n",
    "\n",
    "    def __init__(self,name):\n",
    "        self.name = name \n",
    "        self.tricks = []\n",
    "\n",
    "    def add_tricks(self,tricks):\n",
    "        self.tricks.append(tricks)\n",
    "\n",
    "d = Dog('Max')\n",
    "e = Dog('Maxy')\n",
    "d.add_tricks('Roll')\n",
    "e.add_tricks('Jump')\n",
    "\n",
    "print(d.tricks)\n",
    "print(e.tricks)"
   ]
  },
  {
   "cell_type": "code",
   "execution_count": 10,
   "id": "f461c639",
   "metadata": {},
   "outputs": [
    {
     "name": "stdout",
     "output_type": "stream",
     "text": [
      "[0, 1, 4, 9, 16, 25, 36, 49, 64, 81]\n"
     ]
    }
   ],
   "source": [
    "lst = []\n",
    "\n",
    "for i in range(10):\n",
    "    lst.append(i*i)\n",
    "print(lst)"
   ]
  },
  {
   "cell_type": "code",
   "execution_count": 12,
   "id": "ec72bff2",
   "metadata": {},
   "outputs": [
    {
     "name": "stdout",
     "output_type": "stream",
     "text": [
      "[0, 1, 4, 9, 16, 25, 36, 49, 64, 81, 100]\n"
     ]
    }
   ],
   "source": [
    "print([i*i for i in range(11)])"
   ]
  },
  {
   "cell_type": "code",
   "execution_count": 14,
   "id": "c5b12b05",
   "metadata": {},
   "outputs": [
    {
     "name": "stdout",
     "output_type": "stream",
     "text": [
      "[0, 2, 4, 6, 8, 10, 12, 14, 16, 18]\n"
     ]
    }
   ],
   "source": [
    "lst = []\n",
    "\n",
    "for i in range(20):\n",
    "    if i%2 == 0:\n",
    "        lst.append(i)\n",
    "\n",
    "print(lst)"
   ]
  },
  {
   "cell_type": "code",
   "execution_count": 19,
   "id": "c05919a1",
   "metadata": {},
   "outputs": [
    {
     "name": "stdout",
     "output_type": "stream",
     "text": [
      "[0, 2, 4, 6, 8, 10, 12, 14, 16, 18]\n"
     ]
    }
   ],
   "source": [
    "print([i for i in range(20) if i%2 == 0])"
   ]
  },
  {
   "cell_type": "code",
   "execution_count": 21,
   "id": "0b13e1b9",
   "metadata": {},
   "outputs": [
    {
     "data": {
      "text/plain": [
       "['A', 'B', 'C']"
      ]
     },
     "execution_count": 21,
     "metadata": {},
     "output_type": "execute_result"
    }
   ],
   "source": [
    "fruits = ['a','b','c']\n",
    "\n",
    "[i.upper() for i in fruits]"
   ]
  }
 ],
 "metadata": {
  "kernelspec": {
   "display_name": "Python 3",
   "language": "python",
   "name": "python3"
  },
  "language_info": {
   "codemirror_mode": {
    "name": "ipython",
    "version": 3
   },
   "file_extension": ".py",
   "mimetype": "text/x-python",
   "name": "python",
   "nbconvert_exporter": "python",
   "pygments_lexer": "ipython3",
   "version": "3.13.7"
  }
 },
 "nbformat": 4,
 "nbformat_minor": 5
}
