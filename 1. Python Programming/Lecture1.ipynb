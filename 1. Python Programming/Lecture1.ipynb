{
 "cells": [
  {
   "cell_type": "code",
   "execution_count": 1,
   "id": "789367b3",
   "metadata": {},
   "outputs": [
    {
     "name": "stdout",
     "output_type": "stream",
     "text": [
      "Hiiiiiiii\n"
     ]
    }
   ],
   "source": [
    "print('Hiiiiiiii')"
   ]
  },
  {
   "cell_type": "code",
   "execution_count": null,
   "id": "2a9e739c",
   "metadata": {},
   "outputs": [],
   "source": [
    "# Single line comment\n",
    "#Data types in Python Programming\n",
    "'''\n",
    "1. Int\n",
    "2. Float\n",
    "3. Complex\n",
    "4. String\n",
    "5. Boolean\n",
    "6. List\n",
    "7. Tuple\n",
    "8. Set\n",
    "9. Dict\n",
    "'''\n"
   ]
  },
  {
   "cell_type": "code",
   "execution_count": null,
   "id": "928b0308",
   "metadata": {},
   "outputs": [],
   "source": [
    "# Variable Definition\n",
    "\n",
    "x=10 #Single Variable Assignment\n",
    "x,y=1000,2000\n",
    "x,y,z,_=1,2,3,4  #Multiple Variable Assignment"
   ]
  },
  {
   "cell_type": "code",
   "execution_count": 3,
   "id": "83128a74",
   "metadata": {},
   "outputs": [
    {
     "name": "stdout",
     "output_type": "stream",
     "text": [
      "100100100\n"
     ]
    }
   ],
   "source": [
    "num = '100'\n",
    "\n",
    "num1 = 3\n",
    "\n",
    "num2 = num * num1\n",
    "print(num2)\n"
   ]
  },
  {
   "cell_type": "code",
   "execution_count": null,
   "id": "7b0ef5d3",
   "metadata": {},
   "outputs": [],
   "source": [
    "#Rule for Variable \n",
    "'''\n",
    "1. Special Characters not allowed at prefix of variable\n",
    "2. Variable should not contain space in between 2 words\n",
    "'''"
   ]
  },
  {
   "cell_type": "code",
   "execution_count": 2,
   "id": "825ff3a2",
   "metadata": {},
   "outputs": [
    {
     "name": "stdout",
     "output_type": "stream",
     "text": [
      "Hiii\n",
      "1100\n"
     ]
    }
   ],
   "source": [
    "#Print Function\n",
    "\n",
    "print('Hiii')\n",
    "print(100+1000)"
   ]
  },
  {
   "cell_type": "code",
   "execution_count": 1,
   "id": "a31227d3",
   "metadata": {},
   "outputs": [
    {
     "name": "stdout",
     "output_type": "stream",
     "text": [
      "The output Result =  20.0\n",
      "The output Result = 20.0\n",
      "The output Result 10.0 + 10.0 = 20.0\n"
     ]
    }
   ],
   "source": [
    "''' \n",
    "Logic\n",
    "1: Ask user to enter 2 values\n",
    "2. Perform mathemarical operation\n",
    "3. Give result\n",
    "'''\n",
    "num1 = float(input('Enter the first value: '))\n",
    "num2 = float(input('Enter the first value: '))\n",
    "num3 = num1 + num2\n",
    "print('The output Result = ',num3)\n",
    "print(f'The output Result = {num3}')\n",
    "print(f'The output Result {num1} + {num2} = {num3}')"
   ]
  },
  {
   "cell_type": "code",
   "execution_count": 12,
   "id": "b1e048ae",
   "metadata": {},
   "outputs": [
    {
     "data": {
      "text/plain": [
       "'T'"
      ]
     },
     "execution_count": 12,
     "metadata": {},
     "output_type": "execute_result"
    }
   ],
   "source": [
    "#Indexing and Slicing\n",
    "\n",
    "str = 'Tathagat Pagare'\n",
    "\n",
    "str[0]"
   ]
  },
  {
   "cell_type": "code",
   "execution_count": 2,
   "id": "38da00a6",
   "metadata": {},
   "outputs": [
    {
     "name": "stdout",
     "output_type": "stream",
     "text": [
      "The output Result =  20.0\n"
     ]
    }
   ],
   "source": [
    "num1 = float(input('Enter the first value: '))\n",
    "num2 = float(input('Enter the first value: '))\n",
    "num3 = num1 + num2\n",
    "print('The output Result = ',num3)"
   ]
  },
  {
   "cell_type": "code",
   "execution_count": 11,
   "id": "94e78a7f",
   "metadata": {},
   "outputs": [
    {
     "name": "stdout",
     "output_type": "stream",
     "text": [
      "rica nic\n"
     ]
    }
   ],
   "source": [
    "str = 'america nice' \n",
    "print(str[-9:-1:])"
   ]
  },
  {
   "cell_type": "code",
   "execution_count": 13,
   "id": "5123dd01",
   "metadata": {},
   "outputs": [
    {
     "name": "stdout",
     "output_type": "stream",
     "text": [
      "I am True\n"
     ]
    }
   ],
   "source": [
    "# If Else statement\n",
    "\n",
    "if True:\n",
    "    print('I am True')\n",
    "\n",
    "if False:\n",
    "    print('I am False')"
   ]
  },
  {
   "cell_type": "code",
   "execution_count": 14,
   "id": "9210cf84",
   "metadata": {},
   "outputs": [
    {
     "name": "stdout",
     "output_type": "stream",
     "text": [
      "Fuck off\n"
     ]
    }
   ],
   "source": [
    "num = 10\n",
    "\n",
    "if num >= 100:\n",
    "    print('Satisfy')\n",
    "else:\n",
    "    print('Fuck off')"
   ]
  },
  {
   "cell_type": "code",
   "execution_count": 15,
   "id": "6e7035fa",
   "metadata": {},
   "outputs": [
    {
     "name": "stdout",
     "output_type": "stream",
     "text": [
      "Lower\n"
     ]
    }
   ],
   "source": [
    "number=float(input())\n",
    "if number > 2:\n",
    "    print('Higher')\n",
    "if number < 2:\n",
    "    print('Lower')\n",
    "else:\n",
    "    print('2')"
   ]
  },
  {
   "cell_type": "code",
   "execution_count": null,
   "id": "bfb0a151",
   "metadata": {},
   "outputs": [],
   "source": []
  }
 ],
 "metadata": {
  "kernelspec": {
   "display_name": "Python 3",
   "language": "python",
   "name": "python3"
  },
  "language_info": {
   "codemirror_mode": {
    "name": "ipython",
    "version": 3
   },
   "file_extension": ".py",
   "mimetype": "text/x-python",
   "name": "python",
   "nbconvert_exporter": "python",
   "pygments_lexer": "ipython3",
   "version": "3.13.7"
  }
 },
 "nbformat": 4,
 "nbformat_minor": 5
}
