{
 "cells": [
  {
   "cell_type": "code",
   "execution_count": 1,
   "id": "789367b3",
   "metadata": {},
   "outputs": [
    {
     "name": "stdout",
     "output_type": "stream",
     "text": [
      "Hiiiiiiii\n"
     ]
    }
   ],
   "source": [
    "print('Hiiiiiiii')"
   ]
  },
  {
   "cell_type": "code",
   "execution_count": null,
   "id": "2a9e739c",
   "metadata": {},
   "outputs": [],
   "source": [
    "# Single line comment\n",
    "#Data types in Python Programming\n",
    "'''\n",
    "1. Int\n",
    "2. Float\n",
    "3. Complex\n",
    "4. String\n",
    "5. Boolean\n",
    "6. List\n",
    "7. Tuple\n",
    "8. Set\n",
    "9. Dict\n",
    "'''\n"
   ]
  },
  {
   "cell_type": "code",
   "execution_count": null,
   "id": "928b0308",
   "metadata": {},
   "outputs": [],
   "source": [
    "# Variable Definition\n",
    "\n",
    "x=10 #Single Variable Assignment\n",
    "x,y=1000,2000\n",
    "x,y,z,_=1,2,3,4  #Multiple Variable Assignment"
   ]
  },
  {
   "cell_type": "code",
   "execution_count": 3,
   "id": "83128a74",
   "metadata": {},
   "outputs": [
    {
     "name": "stdout",
     "output_type": "stream",
     "text": [
      "100100100\n"
     ]
    }
   ],
   "source": [
    "num = '100'\n",
    "\n",
    "num1 = 3\n",
    "\n",
    "num2 = num * num1\n",
    "print(num2)\n"
   ]
  }
 ],
 "metadata": {
  "kernelspec": {
   "display_name": "itv",
   "language": "python",
   "name": "python3"
  },
  "language_info": {
   "codemirror_mode": {
    "name": "ipython",
    "version": 3
   },
   "file_extension": ".py",
   "mimetype": "text/x-python",
   "name": "python",
   "nbconvert_exporter": "python",
   "pygments_lexer": "ipython3",
   "version": "3.12.11"
  }
 },
 "nbformat": 4,
 "nbformat_minor": 5
}
